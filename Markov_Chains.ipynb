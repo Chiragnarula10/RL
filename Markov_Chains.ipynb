{
  "nbformat": 4,
  "nbformat_minor": 0,
  "metadata": {
    "colab": {
      "provenance": []
    },
    "kernelspec": {
      "name": "python3",
      "display_name": "Python 3"
    },
    "language_info": {
      "name": "python"
    }
  },
  "cells": [
    {
      "cell_type": "code",
      "execution_count": 1,
      "metadata": {
        "id": "tUjqvnMk9mgm"
      },
      "outputs": [],
      "source": [
        "import numpy as np\n",
        "import random as rm\n",
        "# The statespace\n",
        "states = [\"Sleep\",\"Icecream\",\"Run\"]\n",
        "\n",
        "# Possible sequences of events\n",
        "transitionName = [[\"SS\",\"SR\",\"SI\"],[\"RS\",\"RR\",\"RI\"],[\"IS\",\"IR\",\"II\"]]\n",
        "\n",
        "# Probabilities matrix (transition matrix)\n",
        "transitionMatrix = [[0.2,0.6,0.2],[0.1,0.6,0.3],[0.2,0.7,0.1]]"
      ]
    },
    {
      "cell_type": "code",
      "source": [
        "transitionMatrix"
      ],
      "metadata": {
        "colab": {
          "base_uri": "https://localhost:8080/"
        },
        "id": "Vsjv3dFa9s4B",
        "outputId": "0d52ff7b-22f3-45b8-bfc4-984bfc870812"
      },
      "execution_count": 2,
      "outputs": [
        {
          "output_type": "execute_result",
          "data": {
            "text/plain": [
              "[[0.2, 0.6, 0.2], [0.1, 0.6, 0.3], [0.2, 0.7, 0.1]]"
            ]
          },
          "metadata": {},
          "execution_count": 2
        }
      ]
    },
    {
      "cell_type": "code",
      "source": [
        "if sum(transitionMatrix[0])+sum(transitionMatrix[1])+sum(transitionMatrix[1]) != 3:\n",
        "  print(\"Somewhere, something went wrong. Transition matrix, perhaps?\")\n",
        "else:\n",
        "  print(\"All is gonna be okay, you should move on!!\")"
      ],
      "metadata": {
        "colab": {
          "base_uri": "https://localhost:8080/"
        },
        "id": "0PyWOFWH9uhF",
        "outputId": "597a5ec8-0dfd-4457-f0e9-b4f14f072f31"
      },
      "execution_count": 3,
      "outputs": [
        {
          "output_type": "stream",
          "name": "stdout",
          "text": [
            "All is gonna be okay, you should move on!!\n"
          ]
        }
      ]
    },
    {
      "cell_type": "code",
      "source": [
        "# A function that implements the Markov model to forecast the state/mood.\n",
        "def activity_forecast(days):\n",
        "    # Choose the starting state\n",
        "    activityToday = \"Sleep\"\n",
        "    print(\"Start state: \" + activityToday)\n",
        "    # Shall store the sequence of states taken. So, this only has the starting state for now.\n",
        "    activityList = [activityToday]\n",
        "    i = 0\n",
        "    # To calculate the probability of the activityList\n",
        "    prob = 1\n",
        "    while i != days:\n",
        "      if activityToday == \"Sleep\":\n",
        "        change = np.random.choice(transitionName[0],replace=True,p=transitionMatrix[0])\n",
        "        if change == \"SS\":\n",
        "          prob = prob * 0.2\n",
        "          activityList.append(\"Sleep\")\n",
        "          pass\n",
        "        elif change == \"SR\":\n",
        "          prob = prob * 0.6\n",
        "          activityToday = \"Run\"\n",
        "          activityList.append(\"Run\")\n",
        "        else:\n",
        "          prob = prob * 0.2\n",
        "          activityToday = \"Icecream\"\n",
        "          activityList.append(\"Icecream\")\n",
        "          \n",
        "      elif activityToday == \"Run\":\n",
        "          change = np.random.choice(transitionName[1],replace=True,p=transitionMatrix[1])\n",
        "          if change == \"RR\":\n",
        "              prob = prob * 0.5\n",
        "              activityList.append(\"Run\")\n",
        "              pass\n",
        "          elif change == \"RS\":\n",
        "              prob = prob * 0.2\n",
        "              activityToday = \"Sleep\"\n",
        "              activityList.append(\"Sleep\")\n",
        "          else:\n",
        "              prob = prob * 0.3\n",
        "              activityToday = \"Icecream\"\n",
        "              activityList.append(\"Icecream\")\n",
        "      elif activityToday == \"Icecream\":\n",
        "          change = np.random.choice(transitionName[2],replace=True,p=transitionMatrix[2])\n",
        "          if change == \"II\":\n",
        "              prob = prob * 0.1\n",
        "              activityList.append(\"Icecream\")\n",
        "              pass\n",
        "          elif change == \"IS\":\n",
        "              prob = prob * 0.2\n",
        "              activityToday = \"Sleep\"\n",
        "              activityList.append(\"Sleep\")\n",
        "          else:\n",
        "              prob = prob * 0.7\n",
        "              activityToday = \"Run\"\n",
        "              activityList.append(\"Run\")\n",
        "      i += 1  \n",
        "    print(\"Possible states: \" + str(activityList))\n",
        "    print(\"End state after \"+ str(days) + \" days: \" + activityToday)\n",
        "    print(\"Probability of the possible sequence of states: \" + str(prob))\n",
        "\n",
        "# Function that forecasts the possible state for the next 2 days\n",
        "activity_forecast(2)"
      ],
      "metadata": {
        "colab": {
          "base_uri": "https://localhost:8080/"
        },
        "id": "I1vuC2QW9wrW",
        "outputId": "b9efe673-8444-4a68-bd47-acd5deccf3b1"
      },
      "execution_count": 4,
      "outputs": [
        {
          "output_type": "stream",
          "name": "stdout",
          "text": [
            "Start state: Sleep\n",
            "Possible states: ['Sleep', 'Sleep', 'Icecream']\n",
            "End state after 2 days: Icecream\n",
            "Probability of the possible sequence of states: 0.04000000000000001\n"
          ]
        }
      ]
    },
    {
      "cell_type": "code",
      "source": [
        "def activity_forecast(days):\n",
        "    # Choose the starting state\n",
        "    activityToday = \"Sleep\"\n",
        "    activityList = [activityToday]\n",
        "    i = 0\n",
        "    prob = 1\n",
        "    while i != days:\n",
        "        if activityToday == \"Sleep\":\n",
        "            change = np.random.choice(transitionName[0],replace=True,p=transitionMatrix[0])\n",
        "            if change == \"SS\":\n",
        "                prob = prob * 0.2\n",
        "                activityList.append(\"Sleep\")\n",
        "                pass\n",
        "            elif change == \"SR\":\n",
        "                prob = prob * 0.6\n",
        "                activityToday = \"Run\"\n",
        "                activityList.append(\"Run\")\n",
        "            else:\n",
        "                prob = prob * 0.2\n",
        "                activityToday = \"Icecream\"\n",
        "                activityList.append(\"Icecream\")\n",
        "        elif activityToday == \"Run\":\n",
        "            change = np.random.choice(transitionName[1],replace=True,p=transitionMatrix[1])\n",
        "            if change == \"RR\":\n",
        "                prob = prob * 0.5\n",
        "                activityList.append(\"Run\")\n",
        "                pass\n",
        "            elif change == \"RS\":\n",
        "                prob = prob * 0.2\n",
        "                activityToday = \"Sleep\"\n",
        "                activityList.append(\"Sleep\")\n",
        "            else:\n",
        "                prob = prob * 0.3\n",
        "                activityToday = \"Icecream\"\n",
        "                activityList.append(\"Icecream\")\n",
        "        elif activityToday == \"Icecream\":\n",
        "            change = np.random.choice(transitionName[2],replace=True,p=transitionMatrix[2])\n",
        "            if change == \"II\":\n",
        "                prob = prob * 0.1\n",
        "                activityList.append(\"Icecream\")\n",
        "                pass\n",
        "            elif change == \"IS\":\n",
        "                prob = prob * 0.2\n",
        "                activityToday = \"Sleep\"\n",
        "                activityList.append(\"Sleep\")\n",
        "            else:\n",
        "                prob = prob * 0.7\n",
        "                activityToday = \"Run\"\n",
        "                activityList.append(\"Run\")\n",
        "        i += 1    \n",
        "    return activityList\n",
        "\n",
        "# To save every activityList\n",
        "list_activity = []\n",
        "count = 0\n",
        "\n",
        "# `Range` starts from the first count up until but excluding the last count\n",
        "for iterations in range(1,10000):\n",
        "        list_activity.append(activity_forecast(2))\n",
        "\n",
        "# Check out all the `activityList` we collected    \n",
        "#print(list_activity)\n",
        "\n",
        "# Iterate through the list to get a count of all activities ending in state:'Run'\n",
        "for smaller_list in list_activity:\n",
        "    if(smaller_list[2] == \"Run\"):\n",
        "        count += 1\n",
        "\n",
        "# Calculate the probability of starting from state:'Sleep' and ending at state:'Run'\n",
        "percentage = (count/10000) * 100\n",
        "print(\"The probability of starting at state:'Sleep' and ending at state:'Run'= \" + str(percentage) + \"%\")"
      ],
      "metadata": {
        "colab": {
          "base_uri": "https://localhost:8080/"
        },
        "id": "T85sREwv90ba",
        "outputId": "cee80a75-10fe-4472-ca10-1a84a1ad97f8"
      },
      "execution_count": 5,
      "outputs": [
        {
          "output_type": "stream",
          "name": "stdout",
          "text": [
            "The probability of starting at state:'Sleep' and ending at state:'Run'= 61.129999999999995%\n"
          ]
        }
      ]
    },
    {
      "cell_type": "code",
      "source": [],
      "metadata": {
        "id": "6uB2RnZv94PQ"
      },
      "execution_count": null,
      "outputs": []
    }
  ]
}